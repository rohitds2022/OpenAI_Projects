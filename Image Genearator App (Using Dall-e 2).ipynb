{
 "cells": [
  {
   "cell_type": "code",
   "execution_count": 1,
   "id": "ab47ead5",
   "metadata": {},
   "outputs": [],
   "source": [
    "import os\n",
    "import openai\n",
    "from secret_key import api_key\n",
    "openai.api_key = api_key"
   ]
  },
  {
   "cell_type": "code",
   "execution_count": 2,
   "id": "a15ebd45",
   "metadata": {},
   "outputs": [
    {
     "name": "stdout",
     "output_type": "stream",
     "text": [
      "Write your prompt for Dall-e 2: Draw a beautiful scenic view full of snow and sunlight\n"
     ]
    }
   ],
   "source": [
    "user_input = input(\"Write your prompt for Dall-e 2: \")\n",
    "response = openai.Image.create(prompt = user_input, n=1, size = '1024x1024')"
   ]
  },
  {
   "cell_type": "code",
   "execution_count": 3,
   "id": "6fbb4779",
   "metadata": {},
   "outputs": [
    {
     "data": {
      "text/plain": [
       "'https://oaidalleapiprodscus.blob.core.windows.net/private/org-66yA3CjMQGRfIRopmkjZkJlX/user-xuWaJUAdwEbmy4MESGZfGQGq/img-GA87qrRzPa2IBPkRhxNfg7KI.png?st=2023-07-28T22%3A28%3A02Z&se=2023-07-29T00%3A28%3A02Z&sp=r&sv=2021-08-06&sr=b&rscd=inline&rsct=image/png&skoid=6aaadede-4fb3-4698-a8f6-684d7786b067&sktid=a48cca56-e6da-484e-a814-9c849652bcb3&skt=2023-07-28T12%3A14%3A48Z&ske=2023-07-29T12%3A14%3A48Z&sks=b&skv=2021-08-06&sig=xvJqLosSs3oAbWzG2Aq8nKHza/Uvdx4xrIZ0kRqSoXE%3D'"
      ]
     },
     "execution_count": 3,
     "metadata": {},
     "output_type": "execute_result"
    }
   ],
   "source": [
    "print(response['data'][0]['url'])"
   ]
  }
 ],
 "metadata": {
  "kernelspec": {
   "display_name": "Python 3 (ipykernel)",
   "language": "python",
   "name": "python3"
  },
  "language_info": {
   "codemirror_mode": {
    "name": "ipython",
    "version": 3
   },
   "file_extension": ".py",
   "mimetype": "text/x-python",
   "name": "python",
   "nbconvert_exporter": "python",
   "pygments_lexer": "ipython3",
   "version": "3.9.7"
  }
 },
 "nbformat": 4,
 "nbformat_minor": 5
}
