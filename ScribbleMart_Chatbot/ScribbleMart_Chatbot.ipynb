{
 "cells": [
  {
   "cell_type": "code",
   "execution_count": 1,
   "id": "d2ed09cd",
   "metadata": {},
   "outputs": [
    {
     "name": "stderr",
     "output_type": "stream",
     "text": [
      "2023-07-29 20:34:59.583 INFO    numexpr.utils: NumExpr defaulting to 8 threads.\n"
     ]
    }
   ],
   "source": [
    "# import os\n",
    "# import openai\n",
    "# import streamlit as st\n",
    "# from secret_key import api_key\n",
    "# openai.api_key = api_key"
   ]
  },
  {
   "cell_type": "code",
   "execution_count": 4,
   "id": "b1d2a431",
   "metadata": {},
   "outputs": [
    {
     "ename": "ModuleNotFoundError",
     "evalue": "No module named 'dotenv'",
     "output_type": "error",
     "traceback": [
      "\u001b[1;31m---------------------------------------------------------------------------\u001b[0m",
      "\u001b[1;31mModuleNotFoundError\u001b[0m                       Traceback (most recent call last)",
      "\u001b[1;32m~\\AppData\\Local\\Temp/ipykernel_23580/3729526491.py\u001b[0m in \u001b[0;36m<module>\u001b[1;34m\u001b[0m\n\u001b[0;32m      1\u001b[0m \u001b[1;32mimport\u001b[0m \u001b[0mos\u001b[0m\u001b[1;33m\u001b[0m\u001b[1;33m\u001b[0m\u001b[0m\n\u001b[0;32m      2\u001b[0m \u001b[1;32mimport\u001b[0m \u001b[0mopenai\u001b[0m\u001b[1;33m\u001b[0m\u001b[1;33m\u001b[0m\u001b[0m\n\u001b[1;32m----> 3\u001b[1;33m \u001b[1;32mfrom\u001b[0m \u001b[0mdotenv\u001b[0m \u001b[1;32mimport\u001b[0m \u001b[0mload_dotenv\u001b[0m\u001b[1;33m,\u001b[0m \u001b[0mfind_dotenv\u001b[0m\u001b[1;33m\u001b[0m\u001b[1;33m\u001b[0m\u001b[0m\n\u001b[0m\u001b[0;32m      4\u001b[0m \u001b[0m_\u001b[0m \u001b[1;33m=\u001b[0m \u001b[0mload_dotenv\u001b[0m\u001b[1;33m(\u001b[0m\u001b[0mfind_dotenv\u001b[0m\u001b[1;33m(\u001b[0m\u001b[1;33m)\u001b[0m\u001b[1;33m)\u001b[0m \u001b[1;31m# read local .env file\u001b[0m\u001b[1;33m\u001b[0m\u001b[1;33m\u001b[0m\u001b[0m\n\u001b[0;32m      5\u001b[0m \u001b[1;33m\u001b[0m\u001b[0m\n",
      "\u001b[1;31mModuleNotFoundError\u001b[0m: No module named 'dotenv'"
     ]
    }
   ],
   "source": [
    "import os\n",
    "import openai\n",
    "from dotenv import load_dotenv, find_dotenv\n",
    "_ = load_dotenv(find_dotenv()) # read local .env file\n",
    "\n",
    "openai.api_key  = os.getenv('OPENAI_API_KEY')"
   ]
  },
  {
   "cell_type": "code",
   "execution_count": null,
   "id": "08f7605a",
   "metadata": {},
   "outputs": [],
   "source": [
    "def my_bot(input_text):\n",
    "    messages = [ \n",
    "        {\n",
    "            'role':'system', \n",
    "            'content':\"\"\"\n",
    "            You are ScribbleBot, an automated service to collect orders for an online Stationary Mart. \\\n",
    "            You are a helpful assistant that only answers questions strictly based on the given text\\\n",
    "            Do not provide answers from general context. If the context does not have answer say Sorry, I don't know that.\n",
    "            You first greet the customer, then collects the order. \\\n",
    "            You recommend some other items from the list based on already selected items by the customer. \\\n",
    "            You wait to collect the entire order, \\\n",
    "            summarize it and check for a final \\\n",
    "            time if the customer wants to add anything else. \\\n",
    "            and then asks if it's a pickup or delivery. \\\n",
    "            If it's a delivery, you ask for an address. \\\n",
    "            Finally you collect the payment.\\\n",
    "            Make sure to clarify all options and quantity uniquely \\\n",
    "            identify the item from the list provided.\\\n",
    "            You respond in a short, very conversational friendly style. \\\n",
    "            The list includes \\\n",
    "            Pens:\n",
    "\n",
    "            Ballpoint Pen: Rs. 5\n",
    "            Gel Pen: Rs. 7\n",
    "            Rollerball Pen: Rs. 8 \n",
    "            Fountain Pen: Rs. 5\n",
    "            Pencils:\n",
    "\n",
    "            Wooden Pencil: Rs. 2\n",
    "            Mechanical Pencil: Rs 3\n",
    "            Notebooks:\n",
    "\n",
    "            Spiral Notebook (70 pages): Rs 15\n",
    "            Composition Notebook (100 pages): Rs. 20\n",
    "            Leather-Bound Journal (200 pages): Rs. 70\n",
    "            Sticky Notes:\n",
    "\n",
    "            Standard Sticky Notes (50 sheets): Rs. 10\n",
    "            Colored Sticky Notes (100 sheets): Rs. 20\n",
    "            Highlighters:\n",
    "\n",
    "            Yellow Highlighter: Rs. 8\n",
    "            Assorted Colors (pack of 4): Rs. 25\n",
    "            Erasers:\n",
    "\n",
    "            Rubber Eraser: Rs. 3\n",
    "            Eraser Stick: Rs. 5\n",
    "            Rulers:\n",
    "\n",
    "            Plastic Ruler (12 inches): Rs. 5\n",
    "            Metal Ruler (12 inches): Rs. 10\n",
    "            Staplers:\n",
    "\n",
    "            Mini Stapler with Staples: Rs. 15\n",
    "            Standard Stapler with Staples: Rs. 25\n",
    "            Paper Clips:\n",
    "\n",
    "            Standard Paper Clips (pack of 100): Rs. 10\n",
    "            Jumbo Paper Clips (pack of 50): Rs. 15\n",
    "            Scissors:\n",
    "\n",
    "            Student Scissors: Rs. 15\n",
    "            Office Scissors: Rs. 30\n",
    "            Glue Sticks:\n",
    "\n",
    "            Small Glue Stick: Rs. 5\n",
    "            Large Glue Stick: Rs. 10\n",
    "            File Folders:\n",
    "\n",
    "            Manila File Folders (pack of 10): Rs. 25\n",
    "            Colored File Folders (pack of 5): Rs. 20\n",
    "            \"\"\"\n",
    "        },\n",
    "        {\n",
    "           \"role\": \"user\",\n",
    "           \"content\": input_text \n",
    "        }\n",
    "    ]\n",
    "\n",
    "    response = openai.ChatCompletion.create(\n",
    "        model=\"gpt-3.5-turbo\",\n",
    "        messages=messages,\n",
    "        temperature=0,\n",
    "    )\n",
    "#     print(str(response.choices[0].message))\n",
    "    return response.choices[0].message[\"content\"]\n",
    "    \n",
    "    "
   ]
  },
  {
   "cell_type": "code",
   "execution_count": null,
   "id": "046c0a58",
   "metadata": {},
   "outputs": [],
   "source": [
    "def main():\n",
    "    st.title(\"ScribbleBot\")\n",
    "    st.write(\"Ask me a question.\")\n",
    "    \n",
    "    conversation = []\n",
    "    counter = 0\n",
    "    \n",
    "    while True:\n",
    "        \n",
    "        user_input = st.text_input(\"You:\", key=f'user_input_{counter}') \n",
    "        #The key parameter is set to f'user_input_{counter}', where counter is a variable that likely increments on each iteration of the           loop. The key parameter is used to uniquely identify this particular text input widget, allowing Streamlit to update it correctly           when the app is rerun.\n",
    "            \n",
    "        if user_input:\n",
    "            conversation.append({\"role\":\"user\",\"content\": user_input})\n",
    "            generated_output = my_bot(user_input)\n",
    "            conversation.append({\"role\":\"model\",\"content\": generated_output})\n",
    "            \n",
    "            st.write(f\"{conversation[-1]['role']}: \\n {conversation[-1]['content']}\")\n",
    "            \n",
    "            counter+=1\n",
    "            \n",
    "        else:\n",
    "            break"
   ]
  },
  {
   "cell_type": "code",
   "execution_count": null,
   "id": "ee0bf362",
   "metadata": {},
   "outputs": [],
   "source": [
    "if __name__ == \"__main__\":\n",
    "    main()"
   ]
  },
  {
   "cell_type": "code",
   "execution_count": null,
   "id": "541ad2d0",
   "metadata": {},
   "outputs": [],
   "source": []
  }
 ],
 "metadata": {
  "kernelspec": {
   "display_name": "Python 3 (ipykernel)",
   "language": "python",
   "name": "python3"
  },
  "language_info": {
   "codemirror_mode": {
    "name": "ipython",
    "version": 3
   },
   "file_extension": ".py",
   "mimetype": "text/x-python",
   "name": "python",
   "nbconvert_exporter": "python",
   "pygments_lexer": "ipython3",
   "version": "3.9.7"
  }
 },
 "nbformat": 4,
 "nbformat_minor": 5
}
