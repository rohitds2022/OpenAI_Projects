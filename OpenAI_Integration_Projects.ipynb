{
 "cells": [
  {
   "cell_type": "markdown",
   "id": "816ddde0",
   "metadata": {},
   "source": [
    "##### openai.ChatCompletion.create(...): This line calls the OpenAI API to generate a response using the GPT-3.5-turbo model. The *create* method is used to interact with the model and request a completion for the conversation provided in the messages list.\n",
    "\n",
    "- model=\"gpt-3.5-turbo\": This specifies the model to use, which is GPT-3.5-turbo in this case.\n",
    "- \n",
    "- messages=messages: This is the conversation history provided as input to the model. It  includes both the system message and the user message.\n",
    "- \n",
    "- temperature=0: The temperature determines the randomness of the output. A higher value like 0.8 would make the output more diverse, while 0 will make it deterministic.\n",
    "- \n",
    "- max_tokens=256: This sets the maximum length of the generated response in tokens. Tokens are chunks of text used for language modeling. Here, the maximum response length is set to 256 tokens.\n",
    "- "
   ]
  },
  {
   "cell_type": "code",
   "execution_count": 1,
   "id": "e7078b66",
   "metadata": {},
   "outputs": [],
   "source": [
    "#pip install openai"
   ]
  },
  {
   "cell_type": "markdown",
   "id": "ac4ed13b",
   "metadata": {},
   "source": [
    "### Authorized Access to OpenAI API"
   ]
  },
  {
   "cell_type": "code",
   "execution_count": 2,
   "id": "cfbce00f",
   "metadata": {},
   "outputs": [],
   "source": [
    "import os\n",
    "import openai\n",
    "\n",
    "from secret_key import api_key\n",
    "openai.api_key = api_key"
   ]
  },
  {
   "cell_type": "markdown",
   "id": "ddce64ca",
   "metadata": {},
   "source": [
    "#### Grammer Correction App"
   ]
  },
  {
   "cell_type": "code",
   "execution_count": 4,
   "id": "2f54e198",
   "metadata": {},
   "outputs": [
    {
     "name": "stdout",
     "output_type": "stream",
     "text": [
      "Enter a statement: My name Rohit\n",
      "Generated Output:\n",
      "{\n",
      "  \"id\": \"chatcmpl-7hQWYywHQK6FNzUDP7IkmBOmFRzVC\",\n",
      "  \"object\": \"chat.completion\",\n",
      "  \"created\": 1690584418,\n",
      "  \"model\": \"gpt-3.5-turbo-0613\",\n",
      "  \"choices\": [\n",
      "    {\n",
      "      \"index\": 0,\n",
      "      \"message\": {\n",
      "        \"role\": \"assistant\",\n",
      "        \"content\": \"My name is Rohit.\"\n",
      "      },\n",
      "      \"finish_reason\": \"stop\"\n",
      "    }\n",
      "  ],\n",
      "  \"usage\": {\n",
      "    \"prompt_tokens\": 32,\n",
      "    \"completion_tokens\": 6,\n",
      "    \"total_tokens\": 38\n",
      "  }\n",
      "}\n"
     ]
    }
   ],
   "source": [
    "# Get user input\n",
    "user_input = input(\"Enter a statement: \")\n",
    "\n",
    "# Create a list of messages containing the user input\n",
    "messages = [\n",
    "    {\n",
    "        \"role\": \"system\", #role:system means standard instructions are provided\n",
    "        \"content\": \"You will be provided with statements, and your task is to convert them to standard English\"\n",
    "    },\n",
    "    {\n",
    "        \"role\": \"user\", #role:user means give different statements for every single execution\n",
    "        \"content\": user_input\n",
    "    }\n",
    "]\n",
    "\n",
    "# Generate a response from the model\n",
    "response = openai.ChatCompletion.create(\n",
    "    model = \"gpt-3.5-turbo\",\n",
    "    messages = messages,\n",
    "    temperature = 0,\n",
    "    max_tokens = 256\n",
    ")\n",
    "\n",
    "# Print the generated output\n",
    "print(\"Generated Output:\")\n",
    "print(response)\n",
    "# print(response['choices'][0]['message']['content'])"
   ]
  },
  {
   "cell_type": "code",
   "execution_count": 5,
   "id": "31f94ef3",
   "metadata": {},
   "outputs": [
    {
     "name": "stdout",
     "output_type": "stream",
     "text": [
      "My name is Rohit.\n"
     ]
    }
   ],
   "source": [
    "#print(response)\n",
    "print(response['choices'][0]['message']['content'])"
   ]
  },
  {
   "cell_type": "markdown",
   "id": "6791b7d3",
   "metadata": {},
   "source": [
    "#### Language Translator App"
   ]
  },
  {
   "cell_type": "code",
   "execution_count": 6,
   "id": "9f9ae34d",
   "metadata": {},
   "outputs": [
    {
     "name": "stdout",
     "output_type": "stream",
     "text": [
      "Enter your statement in English Language only: How are you ?\n",
      "तुम कैसे हो? (tum kaise ho?)\n"
     ]
    }
   ],
   "source": [
    "user_input =input(\"Enter your statement in English Language only: \")\n",
    "\n",
    "response = openai.ChatCompletion.create(\n",
    "    model = \"gpt-3.5-turbo\",\n",
    "    messages = [\n",
    "        {\n",
    "            \"role\": \"system\",\n",
    "            \"content\": \"You will be provided with a sentence in English, and your task is to translate in Hindi\"\n",
    "        },\n",
    "        {\n",
    "            \"role\": \"user\",\n",
    "            \"content\": user_input\n",
    "        }\n",
    "    ],\n",
    "    temperature = 0,\n",
    "    max_tokens = 256\n",
    ")\n",
    "\n",
    "print(response[\"choices\"][0][\"message\"][\"content\"])"
   ]
  },
  {
   "cell_type": "markdown",
   "id": "c7c7d27b",
   "metadata": {},
   "source": [
    "#### Keyword Extraction App"
   ]
  },
  {
   "cell_type": "code",
   "execution_count": null,
   "id": "a4fe9438",
   "metadata": {},
   "outputs": [],
   "source": [
    "user_input = \"\"\"Responsibilities:\n",
    "Requirements:\n",
    "Bachelor's or Master's degree in Computer Science, Statistics, Mathematics, or a related field.\n",
    "Proven experience as a Data Scientist or similar role, demonstrating successful application of data science techniques.\n",
    "Strong programming skills in languages such as Python, R, or Java.\n",
    "Proficiency in data manipulation, cleaning, and preprocessing techniques.\n",
    "Solid understanding of machine learning algorithms, including supervised and unsupervised methods.\n",
    "Familiarity with data visualization tools (e.g., Tableau, Matplotlib, or ggplot) to present findings effectively.\n",
    "Ability to communicate complex technical concepts to non-technical stakeholders clearly.\n",
    "Strong problem-solving skills and an analytical mindset.\n",
    "Experience with Big Data technologies and cloud platforms (e.g., Hadoop, Spark, AWS, or Azure) is a plus.\n",
    "Knowledge of database systems and SQL is an advantage.\"\"\"\n",
    "\n",
    "response = openai.ChatCompletion.create(\n",
    "    model = \"gpt-3.5-turbo\",\n",
    "    messages = [\n",
    "        {\n",
    "            \"role\": \"system\",\n",
    "            \"content\": \"You will be provided with a block of text, and your task is to extract a list of keywords from it.\"\n",
    "        },\n",
    "        {\n",
    "            \"role\": \"user\",\n",
    "            \"content\": user_input\n",
    "        }\n",
    "    ],\n",
    "    temperature = 0.5,\n",
    "    max_tokens = 300\n",
    ")\n",
    "\n",
    "print(response[\"choices\"][0][\"message\"][\"content\"])"
   ]
  },
  {
   "cell_type": "markdown",
   "id": "9e4e41e0",
   "metadata": {},
   "source": [
    "#### Airport Code Generator"
   ]
  },
  {
   "cell_type": "code",
   "execution_count": 7,
   "id": "8cd7ea56",
   "metadata": {},
   "outputs": [
    {
     "name": "stdout",
     "output_type": "stream",
     "text": [
      "There are no specific airport codes mentioned in the given text. However, the airport code for Pune is PNQ and for New Delhi is DEL.\n"
     ]
    }
   ],
   "source": [
    "response = openai.ChatCompletion.create(\n",
    "    model = 'gpt-3.5-turbo',\n",
    "    messages = [\n",
    "        {\n",
    "            'role': 'system',\n",
    "            'content': 'You will be provided with a text, your task is to extract the airport codes from it.'\n",
    "        },\n",
    "        {\n",
    "            'role': 'user',\n",
    "            'content': 'I want to travel from Pune to New Delhi'\n",
    "        }\n",
    "    ],\n",
    "    temperature = 0,\n",
    "    max_tokens = 256\n",
    ")\n",
    "\n",
    "print(response['choices'][0]['message']['content'])"
   ]
  },
  {
   "cell_type": "markdown",
   "id": "f1642dbd",
   "metadata": {},
   "source": [
    "#### Startup Idea Generator"
   ]
  },
  {
   "cell_type": "code",
   "execution_count": null,
   "id": "522a73b0",
   "metadata": {},
   "outputs": [],
   "source": [
    "response = openai.ChatCompletion.create(\n",
    "  model=\"gpt-3.5-turbo\",\n",
    "  messages=[\n",
    "    {\n",
    "      \"role\": \"user\",\n",
    "      \"content\": \"Brainstorm some ideas combining Generative AI and corporate online courses.\"\n",
    "    }\n",
    "  ],\n",
    "  temperature=0.6,\n",
    "  max_tokens=256\n",
    ")\n",
    "\n",
    "print(response['choices'][0]['message']['content'])"
   ]
  },
  {
   "cell_type": "code",
   "execution_count": null,
   "id": "00f504ef",
   "metadata": {},
   "outputs": [],
   "source": []
  },
  {
   "cell_type": "code",
   "execution_count": null,
   "id": "87fd4582",
   "metadata": {},
   "outputs": [],
   "source": []
  },
  {
   "cell_type": "code",
   "execution_count": null,
   "id": "8bf39e0e",
   "metadata": {},
   "outputs": [],
   "source": []
  }
 ],
 "metadata": {
  "kernelspec": {
   "display_name": "Python 3 (ipykernel)",
   "language": "python",
   "name": "python3"
  },
  "language_info": {
   "codemirror_mode": {
    "name": "ipython",
    "version": 3
   },
   "file_extension": ".py",
   "mimetype": "text/x-python",
   "name": "python",
   "nbconvert_exporter": "python",
   "pygments_lexer": "ipython3",
   "version": "3.9.7"
  }
 },
 "nbformat": 4,
 "nbformat_minor": 5
}
