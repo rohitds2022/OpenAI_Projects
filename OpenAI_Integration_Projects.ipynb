{
 "cells": [
  {
   "cell_type": "markdown",
   "id": "f3748654",
   "metadata": {},
   "source": [
    "##### openai.ChatCompletion.create(...): This line calls the OpenAI API to generate a response using the GPT-3.5-turbo model. The *create* method is used to interact with the model and request a completion for the conversation provided in the messages list.\n",
    "\n",
    "- model=\"gpt-3.5-turbo\": This specifies the model to use, which is GPT-3.5-turbo in this case.\n",
    "- \n",
    "- messages=messages: This is the conversation history provided as input to the model. It  includes both the system message and the user message.\n",
    "- \n",
    "- temperature=0: The temperature determines the randomness of the output. A higher value like 0.8 would make the output more diverse, while 0 will make it deterministic.\n",
    "- \n",
    "- max_tokens=256: This sets the maximum length of the generated response in tokens. Tokens are chunks of text used for language modeling. Here, the maximum response length is set to 256 tokens.\n",
    "- "
   ]
  },
  {
   "cell_type": "code",
   "execution_count": 1,
   "id": "ae25e4fa",
   "metadata": {},
   "outputs": [],
   "source": [
    "#pip install openai"
   ]
  },
  {
   "cell_type": "markdown",
   "id": "46399e11",
   "metadata": {},
   "source": [
    "### Authorized Access to OpenAI API"
   ]
  },
  {
   "cell_type": "code",
   "execution_count": 2,
   "id": "940154e2",
   "metadata": {},
   "outputs": [],
   "source": [
    "import os\n",
    "import openai\n",
    "\n",
    "from secret_key import api_key\n",
    "openai.api_key = api_key"
   ]
  },
  {
   "cell_type": "markdown",
   "id": "f90880dc",
   "metadata": {},
   "source": [
    "#### Grammer Correction App"
   ]
  },
  {
   "cell_type": "code",
   "execution_count": 4,
   "id": "503a4f7f",
   "metadata": {},
   "outputs": [
    {
     "name": "stdout",
     "output_type": "stream",
     "text": [
      "Enter a statement: My name Rohit\n",
      "Generated Output:\n",
      "{\n",
      "  \"id\": \"chatcmpl-7hQWYywHQK6FNzUDP7IkmBOmFRzVC\",\n",
      "  \"object\": \"chat.completion\",\n",
      "  \"created\": 1690584418,\n",
      "  \"model\": \"gpt-3.5-turbo-0613\",\n",
      "  \"choices\": [\n",
      "    {\n",
      "      \"index\": 0,\n",
      "      \"message\": {\n",
      "        \"role\": \"assistant\",\n",
      "        \"content\": \"My name is Rohit.\"\n",
      "      },\n",
      "      \"finish_reason\": \"stop\"\n",
      "    }\n",
      "  ],\n",
      "  \"usage\": {\n",
      "    \"prompt_tokens\": 32,\n",
      "    \"completion_tokens\": 6,\n",
      "    \"total_tokens\": 38\n",
      "  }\n",
      "}\n"
     ]
    }
   ],
   "source": [
    "# Get user input\n",
    "user_input = input(\"Enter a statement: \")\n",
    "\n",
    "# Create a list of messages containing the user input\n",
    "messages = [\n",
    "    {\n",
    "        \"role\": \"system\", #role:system means standard instructions are provided\n",
    "        \"content\": \"You will be provided with statements, and your task is to convert them to standard English\"\n",
    "    },\n",
    "    {\n",
    "        \"role\": \"user\", #role:user means give different statements for every single execution\n",
    "        \"content\": user_input\n",
    "    }\n",
    "]\n",
    "\n",
    "# Generate a response from the model\n",
    "response = openai.ChatCompletion.create(\n",
    "    model = \"gpt-3.5-turbo\",\n",
    "    messages = messages,\n",
    "    temperature = 0,\n",
    "    max_tokens = 256\n",
    ")\n",
    "\n",
    "# Print the generated output\n",
    "print(\"Generated Output:\")\n",
    "print(response)\n",
    "# print(response['choices'][0]['message']['content'])"
   ]
  },
  {
   "cell_type": "code",
   "execution_count": 5,
   "id": "3105f283",
   "metadata": {},
   "outputs": [
    {
     "name": "stdout",
     "output_type": "stream",
     "text": [
      "My name is Rohit.\n"
     ]
    }
   ],
   "source": [
    "#print(response)\n",
    "print(response['choices'][0]['message']['content'])"
   ]
  },
  {
   "cell_type": "code",
   "execution_count": null,
   "id": "526b1609",
   "metadata": {},
   "outputs": [],
   "source": []
  },
  {
   "cell_type": "code",
   "execution_count": null,
   "id": "e0eec8ac",
   "metadata": {},
   "outputs": [],
   "source": []
  },
  {
   "cell_type": "code",
   "execution_count": null,
   "id": "7ebe7a26",
   "metadata": {},
   "outputs": [],
   "source": []
  },
  {
   "cell_type": "code",
   "execution_count": null,
   "id": "1c4e9485",
   "metadata": {},
   "outputs": [],
   "source": []
  },
  {
   "cell_type": "code",
   "execution_count": null,
   "id": "0e809037",
   "metadata": {},
   "outputs": [],
   "source": []
  }
 ],
 "metadata": {
  "kernelspec": {
   "display_name": "Python 3 (ipykernel)",
   "language": "python",
   "name": "python3"
  },
  "language_info": {
   "codemirror_mode": {
    "name": "ipython",
    "version": 3
   },
   "file_extension": ".py",
   "mimetype": "text/x-python",
   "name": "python",
   "nbconvert_exporter": "python",
   "pygments_lexer": "ipython3",
   "version": "3.9.7"
  }
 },
 "nbformat": 4,
 "nbformat_minor": 5
}
