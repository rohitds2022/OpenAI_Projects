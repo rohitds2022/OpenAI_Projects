{
 "cells": [
  {
   "cell_type": "code",
   "execution_count": 1,
   "id": "f77eb499",
   "metadata": {},
   "outputs": [],
   "source": [
    "with open('data.txt','r') as file:\n",
    "    content = file.read()"
   ]
  },
  {
   "cell_type": "code",
   "execution_count": 2,
   "id": "5795ec6e",
   "metadata": {},
   "outputs": [
    {
     "data": {
      "text/plain": [
       "'Paris, the capital city of France, is renowned for its rich history, culture, and iconic landmarks. In 200 words, we can only scratch the surface of what this captivating city has to offer.\\n\\nParis, often called the \"City of Love,\" is situated along the banks of the River Seine. The Eiffel Tower, an enduring symbol of the city, stands tall as an architectural marvel and a testament to Paris\\'s charm. The city\\'s grandeur is further amplified by world-famous landmarks like Notre-Dame Cathedral, the Louvre Museum housing priceless art, and the splendid Champs-Ã‰lysÃ©es avenue.\\n\\nDuring 2000, Paris was a thriving metropolis with a vibrant arts scene and a bustling fashion industry. The city hosted numerous events and exhibitions, including the acclaimed Paris Fashion Week and art exhibitions at renowned galleries like MusÃ©e d\\'Orsay and Centre Pompidou.\\n\\nParisian cuisine is celebrated globally, and in 2000, the city\\'s gastronomy offered an array of delectable dishes, from delicate pastries in charming patisseries to exquisite French cuisine in Michelin-starred restaurants.\\n\\nCulturally diverse neighborhoods like Montmartre and Le Marais provided a glimpse of Paris\\'s cosmopolitan spirit, with bustling markets, bohemian cafes, and art studios.\\n\\n2000 was a year of celebration as Paris commemorated the turn of the millennium with various events, adding to its timeless allure.\\n\\nOverall, Paris in 2000 was a captivating blend of history, art, romance, and gastronomy, leaving an indelible impression on visitors and residents alike.\\n\\n\\n\\n\\n\\n\\n'"
      ]
     },
     "execution_count": 2,
     "metadata": {},
     "output_type": "execute_result"
    }
   ],
   "source": [
    "content"
   ]
  },
  {
   "cell_type": "code",
   "execution_count": 3,
   "id": "db3593e3",
   "metadata": {},
   "outputs": [],
   "source": [
    "import os\n",
    "import openai\n",
    "from secret_key import api_key\n",
    "openai.api_key = api_key"
   ]
  },
  {
   "cell_type": "code",
   "execution_count": 8,
   "id": "ecece62c",
   "metadata": {},
   "outputs": [
    {
     "name": "stdout",
     "output_type": "stream",
     "text": [
      "Ask your question related to Paris: What is the other name of Paris ?\n",
      "The other name of Paris is often referred to as the \"City of Love.\"\n"
     ]
    }
   ],
   "source": [
    "def mychatbot(user_input):\n",
    "    response = openai.ChatCompletion.create(\n",
    "        model='gpt-3.5-turbo',\n",
    "        messages=[\n",
    "            {'role':'system','content':'You are a helpful assistant'},\n",
    "            {'role': 'user','content': 'Please answer my queries according to the given context \\nContext: {}'.format(str(content))},\n",
    "            {'role': 'assistant','content':'Okay, sure !'},\n",
    "            {'role': 'user','content': user_input}\n",
    "        ])\n",
    "    \n",
    "    return response\n",
    "\n",
    "user_input = input(\"Ask your question related to Paris: \")\n",
    "generated_response = mychatbot(user_input)\n",
    "print(generated_response['choices'][0]['message']['content'])"
   ]
  },
  {
   "cell_type": "code",
   "execution_count": 9,
   "id": "87678ba6",
   "metadata": {},
   "outputs": [
    {
     "name": "stdout",
     "output_type": "stream",
     "text": [
      "Ask your question related to the context: What is Paris ?\n",
      "Paris is the capital city of France.\n"
     ]
    }
   ],
   "source": [
    "import os\n",
    "import openai\n",
    "from secret_key import api_key\n",
    "\n",
    "openai.api_key = api_key\n",
    "\n",
    "with open('data.txt','r') as file:\n",
    "    content = file.read()\n",
    "\n",
    "def mychatbot(user_input):\n",
    "    response = openai.ChatCompletion.create(\n",
    "        model=\"gpt-3.5-turbo\",\n",
    "        messages=[\n",
    "            {\"role\": \"system\", \"content\": \"You are a helpful assistant that only answers questions strictly based on the given text.\"},\n",
    "            {\"role\": \"user\", \"content\": f\"Do not provide answers from general context. If the context does not have answer say I don't know.The text for you to strictly base your answers on is as follows: {content}\"},\n",
    "            {\"role\": \"user\", \"content\": user_input},\n",
    "        ],\n",
    "        temperature=0,  # Make output more focused and deterministic\n",
    "    )\n",
    "\n",
    "    # Check if the answer is valid\n",
    "    if \"I don't know\" in response.choices[0].message['content']:\n",
    "        return \"This data is not available on this site. Please ask a relevant question.\"\n",
    "    else:\n",
    "        return response.choices[0].message['content']\n",
    "\n",
    "user_input = input(\"Ask your question related to the context: \")\n",
    "generated_response = mychatbot(user_input)\n",
    "\n",
    "print(generated_response)\n"
   ]
  },
  {
   "cell_type": "code",
   "execution_count": null,
   "id": "e2069722",
   "metadata": {},
   "outputs": [],
   "source": []
  },
  {
   "cell_type": "code",
   "execution_count": null,
   "id": "fbb19cbd",
   "metadata": {},
   "outputs": [],
   "source": []
  },
  {
   "cell_type": "code",
   "execution_count": null,
   "id": "98aa3668",
   "metadata": {},
   "outputs": [],
   "source": []
  },
  {
   "cell_type": "code",
   "execution_count": null,
   "id": "a4b50e7d",
   "metadata": {},
   "outputs": [],
   "source": []
  },
  {
   "cell_type": "code",
   "execution_count": null,
   "id": "f6a60aa7",
   "metadata": {},
   "outputs": [],
   "source": []
  }
 ],
 "metadata": {
  "kernelspec": {
   "display_name": "Python 3 (ipykernel)",
   "language": "python",
   "name": "python3"
  },
  "language_info": {
   "codemirror_mode": {
    "name": "ipython",
    "version": 3
   },
   "file_extension": ".py",
   "mimetype": "text/x-python",
   "name": "python",
   "nbconvert_exporter": "python",
   "pygments_lexer": "ipython3",
   "version": "3.9.7"
  }
 },
 "nbformat": 4,
 "nbformat_minor": 5
}
